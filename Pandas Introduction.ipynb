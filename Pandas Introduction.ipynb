{
 "cells": [
  {
   "cell_type": "code",
   "execution_count": 1,
   "id": "ae138c97-0dfd-4151-b435-bd99738d24c2",
   "metadata": {},
   "outputs": [],
   "source": [
    "import pandas as pd"
   ]
  },
  {
   "cell_type": "code",
   "execution_count": 2,
   "id": "a814fc02-63a5-40ed-9f2b-632e7707570b",
   "metadata": {},
   "outputs": [],
   "source": [
    "import numpy as np"
   ]
  },
  {
   "cell_type": "code",
   "execution_count": 3,
   "id": "d0d3f4c6-9f64-4433-9e03-0082ce1d91c5",
   "metadata": {},
   "outputs": [],
   "source": [
    "################# Python Pandas Creating Series #################"
   ]
  },
  {
   "cell_type": "code",
   "execution_count": 4,
   "id": "afb1eaeb-cd01-46e0-8961-50a5913d6441",
   "metadata": {},
   "outputs": [],
   "source": [
    "# Creating empty series\n",
    "ser = pd.Series()"
   ]
  },
  {
   "cell_type": "code",
   "execution_count": 5,
   "id": "7d77f4ca-fef8-4896-b9cb-236c37474cd2",
   "metadata": {},
   "outputs": [
    {
     "name": "stdout",
     "output_type": "stream",
     "text": [
      "Series([], dtype: object)\n"
     ]
    }
   ],
   "source": [
    "print (ser)"
   ]
  },
  {
   "cell_type": "code",
   "execution_count": 6,
   "id": "848d1499-7c51-4799-a851-008bff2ed703",
   "metadata": {},
   "outputs": [],
   "source": [
    "# Simple array\n",
    "data = np.array(['g', 'e', 'e', 'k', 's'])"
   ]
  },
  {
   "cell_type": "code",
   "execution_count": 7,
   "id": "5a4046bf-d072-4ba3-abcd-340db4f3d4fc",
   "metadata": {},
   "outputs": [],
   "source": [
    "ser = pd.Series(data)"
   ]
  },
  {
   "cell_type": "code",
   "execution_count": 8,
   "id": "3a0b69e9-f8e0-4336-99f8-8557ef787b32",
   "metadata": {},
   "outputs": [
    {
     "name": "stdout",
     "output_type": "stream",
     "text": [
      "0    g\n",
      "1    e\n",
      "2    e\n",
      "3    k\n",
      "4    s\n",
      "dtype: object\n"
     ]
    }
   ],
   "source": [
    "print(ser)"
   ]
  },
  {
   "cell_type": "code",
   "execution_count": 9,
   "id": "c85b9ab3-7906-458b-b46a-b6951affcd38",
   "metadata": {},
   "outputs": [],
   "source": [
    "################# Python Pandas Creating Dataframes #################"
   ]
  },
  {
   "cell_type": "code",
   "execution_count": 11,
   "id": "dedc5bf3-a133-4b09-997c-7a62289332da",
   "metadata": {},
   "outputs": [
    {
     "data": {
      "text/plain": [
       "'\\nPandas DataFrame is a two-dimensional size-mutable, potentially heterogeneous tabular data structure with labeled axes (rows and columns). \\nA Data frame is a two-dimensional data structure, i.e., data is aligned in a tabular fashion in rows and columns. \\nPandas DataFrame consists of three principal components: the data, rows, and columns.\\n'"
      ]
     },
     "execution_count": 11,
     "metadata": {},
     "output_type": "execute_result"
    }
   ],
   "source": [
    "'''\n",
    "Pandas DataFrame is a two-dimensional size-mutable, potentially heterogeneous tabular data structure with labeled axes (rows and columns). \n",
    "A Data frame is a two-dimensional data structure, i.e., data is aligned in a tabular fashion in rows and columns. \n",
    "Pandas DataFrame consists of three principal components: the data, rows, and columns.\n",
    "'''"
   ]
  },
  {
   "cell_type": "code",
   "execution_count": 13,
   "id": "8223ffc8-c332-486b-8742-affe2d740599",
   "metadata": {},
   "outputs": [
    {
     "name": "stdout",
     "output_type": "stream",
     "text": [
      "Empty DataFrame\n",
      "Columns: []\n",
      "Index: []\n"
     ]
    }
   ],
   "source": [
    "# Calling DataFrame constructor\n",
    "df = pd.DataFrame()\n",
    "print(df)"
   ]
  },
  {
   "cell_type": "code",
   "execution_count": 15,
   "id": "0f069168-3501-4883-856f-ee85d642d2f3",
   "metadata": {},
   "outputs": [],
   "source": [
    "# list of strings\n",
    "lst = ['Geeks', 'For', 'Geeks', 'is', 'portal', 'for', 'Geeks']"
   ]
  },
  {
   "cell_type": "code",
   "execution_count": 16,
   "id": "29b5949f-8ec6-45f8-8d4e-90440182392b",
   "metadata": {},
   "outputs": [
    {
     "data": {
      "text/html": [
       "<div>\n",
       "<style scoped>\n",
       "    .dataframe tbody tr th:only-of-type {\n",
       "        vertical-align: middle;\n",
       "    }\n",
       "\n",
       "    .dataframe tbody tr th {\n",
       "        vertical-align: top;\n",
       "    }\n",
       "\n",
       "    .dataframe thead th {\n",
       "        text-align: right;\n",
       "    }\n",
       "</style>\n",
       "<table border=\"1\" class=\"dataframe\">\n",
       "  <thead>\n",
       "    <tr style=\"text-align: right;\">\n",
       "      <th></th>\n",
       "      <th>0</th>\n",
       "    </tr>\n",
       "  </thead>\n",
       "  <tbody>\n",
       "    <tr>\n",
       "      <th>0</th>\n",
       "      <td>Geeks</td>\n",
       "    </tr>\n",
       "    <tr>\n",
       "      <th>1</th>\n",
       "      <td>For</td>\n",
       "    </tr>\n",
       "    <tr>\n",
       "      <th>2</th>\n",
       "      <td>Geeks</td>\n",
       "    </tr>\n",
       "    <tr>\n",
       "      <th>3</th>\n",
       "      <td>is</td>\n",
       "    </tr>\n",
       "    <tr>\n",
       "      <th>4</th>\n",
       "      <td>portal</td>\n",
       "    </tr>\n",
       "    <tr>\n",
       "      <th>5</th>\n",
       "      <td>for</td>\n",
       "    </tr>\n",
       "    <tr>\n",
       "      <th>6</th>\n",
       "      <td>Geeks</td>\n",
       "    </tr>\n",
       "  </tbody>\n",
       "</table>\n",
       "</div>"
      ],
      "text/plain": [
       "        0\n",
       "0   Geeks\n",
       "1     For\n",
       "2   Geeks\n",
       "3      is\n",
       "4  portal\n",
       "5     for\n",
       "6   Geeks"
      ]
     },
     "execution_count": 16,
     "metadata": {},
     "output_type": "execute_result"
    }
   ],
   "source": [
    "# Calling DataFrame constructor on list\n",
    "df = pd.DataFrame(lst)\n",
    "df"
   ]
  },
  {
   "cell_type": "code",
   "execution_count": 17,
   "id": "53c128a2-c73e-4ccb-81b2-c4af7fc9e7c0",
   "metadata": {},
   "outputs": [],
   "source": [
    "################# Creating Dataframes from CSV #################"
   ]
  },
  {
   "cell_type": "code",
   "execution_count": 18,
   "id": "a70898cb-bea1-4684-b4c2-e924a97fae73",
   "metadata": {},
   "outputs": [],
   "source": [
    "# Reading the CSV file\n",
    "df = pd.read_csv(\"Team Results BD Wednesday-Fall 23.csv\")"
   ]
  },
  {
   "cell_type": "code",
   "execution_count": 19,
   "id": "4489f6cd-d256-4a1e-ab9f-564e2c63d87f",
   "metadata": {},
   "outputs": [
    {
     "data": {
      "text/html": [
       "<div>\n",
       "<style scoped>\n",
       "    .dataframe tbody tr th:only-of-type {\n",
       "        vertical-align: middle;\n",
       "    }\n",
       "\n",
       "    .dataframe tbody tr th {\n",
       "        vertical-align: top;\n",
       "    }\n",
       "\n",
       "    .dataframe thead th {\n",
       "        text-align: right;\n",
       "    }\n",
       "</style>\n",
       "<table border=\"1\" class=\"dataframe\">\n",
       "  <thead>\n",
       "    <tr style=\"text-align: right;\">\n",
       "      <th></th>\n",
       "      <th>Unnamed: 0</th>\n",
       "      <th>Unnamed: 1</th>\n",
       "      <th>Relive</th>\n",
       "      <th>Elite Circle</th>\n",
       "      <th>Your VR</th>\n",
       "      <th>Fusionx</th>\n",
       "    </tr>\n",
       "  </thead>\n",
       "  <tbody>\n",
       "    <tr>\n",
       "      <th>0</th>\n",
       "      <td>NaN</td>\n",
       "      <td>NaN</td>\n",
       "      <td>NaN</td>\n",
       "      <td>NaN</td>\n",
       "      <td>NaN</td>\n",
       "      <td>NaN</td>\n",
       "    </tr>\n",
       "    <tr>\n",
       "      <th>1</th>\n",
       "      <td>Team 1</td>\n",
       "      <td>NaN</td>\n",
       "      <td>9.5</td>\n",
       "      <td>8.5</td>\n",
       "      <td>7.0</td>\n",
       "      <td>8.5</td>\n",
       "    </tr>\n",
       "    <tr>\n",
       "      <th>2</th>\n",
       "      <td>Team 2</td>\n",
       "      <td>NaN</td>\n",
       "      <td>8.5</td>\n",
       "      <td>9.5</td>\n",
       "      <td>9.5</td>\n",
       "      <td>8.0</td>\n",
       "    </tr>\n",
       "    <tr>\n",
       "      <th>3</th>\n",
       "      <td>Team 3</td>\n",
       "      <td>NaN</td>\n",
       "      <td>9.0</td>\n",
       "      <td>9.0</td>\n",
       "      <td>10.0</td>\n",
       "      <td>9.0</td>\n",
       "    </tr>\n",
       "    <tr>\n",
       "      <th>4</th>\n",
       "      <td>Team 4</td>\n",
       "      <td>NaN</td>\n",
       "      <td>8.5</td>\n",
       "      <td>8.5</td>\n",
       "      <td>9.0</td>\n",
       "      <td>10.0</td>\n",
       "    </tr>\n",
       "  </tbody>\n",
       "</table>\n",
       "</div>"
      ],
      "text/plain": [
       "  Unnamed: 0  Unnamed: 1  Relive  Elite Circle  Your VR  Fusionx\n",
       "0        NaN         NaN     NaN           NaN      NaN      NaN\n",
       "1     Team 1         NaN     9.5           8.5      7.0      8.5\n",
       "2     Team 2         NaN     8.5           9.5      9.5      8.0\n",
       "3     Team 3         NaN     9.0           9.0     10.0      9.0\n",
       "4     Team 4         NaN     8.5           8.5      9.0     10.0"
      ]
     },
     "execution_count": 19,
     "metadata": {},
     "output_type": "execute_result"
    }
   ],
   "source": [
    "# Printing the first 5 rows\n",
    "df.head()"
   ]
  },
  {
   "cell_type": "code",
   "execution_count": 21,
   "id": "fe142e35-6624-4af1-8821-6fcff2ba532e",
   "metadata": {},
   "outputs": [
    {
     "data": {
      "text/html": [
       "<div>\n",
       "<style scoped>\n",
       "    .dataframe tbody tr th:only-of-type {\n",
       "        vertical-align: middle;\n",
       "    }\n",
       "\n",
       "    .dataframe tbody tr th {\n",
       "        vertical-align: top;\n",
       "    }\n",
       "\n",
       "    .dataframe thead th {\n",
       "        text-align: right;\n",
       "    }\n",
       "</style>\n",
       "<table border=\"1\" class=\"dataframe\">\n",
       "  <thead>\n",
       "    <tr style=\"text-align: right;\">\n",
       "      <th></th>\n",
       "      <th>Unnamed: 0</th>\n",
       "      <th>Unnamed: 1</th>\n",
       "      <th>Relive</th>\n",
       "      <th>Elite Circle</th>\n",
       "      <th>Your VR</th>\n",
       "      <th>Fusionx</th>\n",
       "    </tr>\n",
       "  </thead>\n",
       "  <tbody>\n",
       "    <tr>\n",
       "      <th>0</th>\n",
       "      <td>NaN</td>\n",
       "      <td>NaN</td>\n",
       "      <td>NaN</td>\n",
       "      <td>NaN</td>\n",
       "      <td>NaN</td>\n",
       "      <td>NaN</td>\n",
       "    </tr>\n",
       "    <tr>\n",
       "      <th>1</th>\n",
       "      <td>Team 1</td>\n",
       "      <td>NaN</td>\n",
       "      <td>9.5</td>\n",
       "      <td>8.5</td>\n",
       "      <td>7.0</td>\n",
       "      <td>8.5</td>\n",
       "    </tr>\n",
       "    <tr>\n",
       "      <th>2</th>\n",
       "      <td>Team 2</td>\n",
       "      <td>NaN</td>\n",
       "      <td>8.5</td>\n",
       "      <td>9.5</td>\n",
       "      <td>9.5</td>\n",
       "      <td>8.0</td>\n",
       "    </tr>\n",
       "    <tr>\n",
       "      <th>3</th>\n",
       "      <td>Team 3</td>\n",
       "      <td>NaN</td>\n",
       "      <td>9.0</td>\n",
       "      <td>9.0</td>\n",
       "      <td>10.0</td>\n",
       "      <td>9.0</td>\n",
       "    </tr>\n",
       "    <tr>\n",
       "      <th>4</th>\n",
       "      <td>Team 4</td>\n",
       "      <td>NaN</td>\n",
       "      <td>8.5</td>\n",
       "      <td>8.5</td>\n",
       "      <td>9.0</td>\n",
       "      <td>10.0</td>\n",
       "    </tr>\n",
       "    <tr>\n",
       "      <th>5</th>\n",
       "      <td>NaN</td>\n",
       "      <td>NaN</td>\n",
       "      <td>35.5</td>\n",
       "      <td>35.5</td>\n",
       "      <td>35.5</td>\n",
       "      <td>35.5</td>\n",
       "    </tr>\n",
       "  </tbody>\n",
       "</table>\n",
       "</div>"
      ],
      "text/plain": [
       "  Unnamed: 0  Unnamed: 1  Relive  Elite Circle  Your VR  Fusionx\n",
       "0        NaN         NaN     NaN           NaN      NaN      NaN\n",
       "1     Team 1         NaN     9.5           8.5      7.0      8.5\n",
       "2     Team 2         NaN     8.5           9.5      9.5      8.0\n",
       "3     Team 3         NaN     9.0           9.0     10.0      9.0\n",
       "4     Team 4         NaN     8.5           8.5      9.0     10.0\n",
       "5        NaN         NaN    35.5          35.5     35.5     35.5"
      ]
     },
     "execution_count": 21,
     "metadata": {},
     "output_type": "execute_result"
    }
   ],
   "source": [
    "# Printing the whole data frame\n",
    "df"
   ]
  },
  {
   "cell_type": "code",
   "execution_count": 22,
   "id": "a7eae804-7776-44a5-b37a-6ea81a3e1227",
   "metadata": {},
   "outputs": [],
   "source": [
    "################# Import public datasets to dataframes #################"
   ]
  },
  {
   "cell_type": "code",
   "execution_count": null,
   "id": "364e9bc0-96e7-40f9-aa7d-c00802b7a07e",
   "metadata": {},
   "outputs": [],
   "source": []
  },
  {
   "cell_type": "code",
   "execution_count": null,
   "id": "855331ce-3635-4ac2-95a5-660f170da30b",
   "metadata": {},
   "outputs": [],
   "source": []
  },
  {
   "cell_type": "code",
   "execution_count": null,
   "id": "c3817f1b-e95b-411a-8beb-3ffd422ce8f6",
   "metadata": {},
   "outputs": [],
   "source": []
  },
  {
   "cell_type": "code",
   "execution_count": null,
   "id": "890589c3-e743-4731-b332-a12ed0a2e731",
   "metadata": {},
   "outputs": [],
   "source": []
  },
  {
   "cell_type": "code",
   "execution_count": null,
   "id": "af6b068c-4b29-4abb-9f49-e60c796d534f",
   "metadata": {},
   "outputs": [],
   "source": []
  }
 ],
 "metadata": {
  "kernelspec": {
   "display_name": "Python 3 (ipykernel)",
   "language": "python",
   "name": "python3"
  },
  "language_info": {
   "codemirror_mode": {
    "name": "ipython",
    "version": 3
   },
   "file_extension": ".py",
   "mimetype": "text/x-python",
   "name": "python",
   "nbconvert_exporter": "python",
   "pygments_lexer": "ipython3",
   "version": "3.11.5"
  }
 },
 "nbformat": 4,
 "nbformat_minor": 5
}
